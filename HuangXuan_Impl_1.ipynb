{
 "cells": [
  {
   "cell_type": "code",
   "execution_count": 967,
   "metadata": {},
   "outputs": [],
   "source": [
    "import math\n",
    "import pandas as pd\n",
    "import numpy as np\n",
    "import pandas_datareader as web\n",
    "from datetime import datetime, timedelta\n",
    "from sklearn.preprocessing import MinMaxScaler\n",
    "from keras.models import Sequential\n",
    "from keras.layers import Dense, LSTM\n",
    "import matplotlib.pyplot as plt\n"
   ]
  },
  {
   "cell_type": "code",
   "execution_count": 968,
   "metadata": {},
   "outputs": [
    {
     "data": {
      "text/plain": [
       "1461"
      ]
     },
     "execution_count": 968,
     "metadata": {},
     "output_type": "execute_result"
    }
   ],
   "source": [
    "df = web.DataReader('NVDA', data_source ='yahoo', start = '2017-01-01' , end = datetime.now())\n",
    "#create a dataframe with only close column\n",
    "df = df.filter(['Close'])\n",
    "#convert it to a numpy array\n",
    "dataset = df.values\n",
    "prediction_num = 14\n",
    "\n",
    "#get the no of rows to train the model on\n",
    "training_data_len = math.ceil(len(dataset))-1\n",
    "training_data_len\n",
    "\n"
   ]
  },
  {
   "cell_type": "code",
   "execution_count": 969,
   "metadata": {},
   "outputs": [
    {
     "data": {
      "text/plain": [
       "(1461, 1)"
      ]
     },
     "execution_count": 969,
     "metadata": {},
     "output_type": "execute_result"
    }
   ],
   "source": [
    "#scale the data\n",
    "scaler = MinMaxScaler(feature_range=(0,1))\n",
    "scaled_data = scaler.fit_transform(dataset)\n",
    "#create the training dataset\n",
    "train_data = scaled_data[0:training_data_len, :]\n",
    "train_data.shape"
   ]
  },
  {
   "cell_type": "code",
   "execution_count": 970,
   "metadata": {},
   "outputs": [
    {
     "name": "stdout",
     "output_type": "stream",
     "text": [
      "[array([0.00525998, 0.00718003, 0.00504215, 0.00613933, 0.00951152,\n",
      "       0.00885806, 0.00780122, 0.00641362, 0.00640555, 0.00453391,\n",
      "       0.00601831, 0.00780122, 0.00687347, 0.00774474, 0.00955186,\n",
      "       0.00992296, 0.0114235 , 0.0131338 , 0.01172199, 0.01104433,\n",
      "       0.0148925 , 0.01605421, 0.0152394 , 0.01760316, 0.01907144,\n",
      "       0.01865193, 0.01685289, 0.01462628, 0.01039893, 0.01072163,\n",
      "       0.01089912, 0.00948732, 0.00947118, 0.01256908, 0.01231899,\n",
      "       0.00403372, 0.00481626, 0.00719616, 0.0048324 , 0.00588924,\n",
      "       0.00283167, 0.00237183, 0.0017587 , 0.00262192, 0.0024767 ,\n",
      "       0.00246057, 0.00292849, 0.00513089, 0.00507442, 0.00569562,\n",
      "       0.00671211, 0.00853536, 0.01126215, 0.00840628, 0.01014885,\n",
      "       0.00935823, 0.0096648 , 0.01029406, 0.00984228, 0.00955992])]\n",
      "[0.011221816949525842]\n",
      "60\n",
      "[array([0.00525998, 0.00718003, 0.00504215, 0.00613933, 0.00951152,\n",
      "       0.00885806, 0.00780122, 0.00641362, 0.00640555, 0.00453391,\n",
      "       0.00601831, 0.00780122, 0.00687347, 0.00774474, 0.00955186,\n",
      "       0.00992296, 0.0114235 , 0.0131338 , 0.01172199, 0.01104433,\n",
      "       0.0148925 , 0.01605421, 0.0152394 , 0.01760316, 0.01907144,\n",
      "       0.01865193, 0.01685289, 0.01462628, 0.01039893, 0.01072163,\n",
      "       0.01089912, 0.00948732, 0.00947118, 0.01256908, 0.01231899,\n",
      "       0.00403372, 0.00481626, 0.00719616, 0.0048324 , 0.00588924,\n",
      "       0.00283167, 0.00237183, 0.0017587 , 0.00262192, 0.0024767 ,\n",
      "       0.00246057, 0.00292849, 0.00513089, 0.00507442, 0.00569562,\n",
      "       0.00671211, 0.00853536, 0.01126215, 0.00840628, 0.01014885,\n",
      "       0.00935823, 0.0096648 , 0.01029406, 0.00984228, 0.00955992]), array([0.00718003, 0.00504215, 0.00613933, 0.00951152, 0.00885806,\n",
      "       0.00780122, 0.00641362, 0.00640555, 0.00453391, 0.00601831,\n",
      "       0.00780122, 0.00687347, 0.00774474, 0.00955186, 0.00992296,\n",
      "       0.0114235 , 0.0131338 , 0.01172199, 0.01104433, 0.0148925 ,\n",
      "       0.01605421, 0.0152394 , 0.01760316, 0.01907144, 0.01865193,\n",
      "       0.01685289, 0.01462628, 0.01039893, 0.01072163, 0.01089912,\n",
      "       0.00948732, 0.00947118, 0.01256908, 0.01231899, 0.00403372,\n",
      "       0.00481626, 0.00719616, 0.0048324 , 0.00588924, 0.00283167,\n",
      "       0.00237183, 0.0017587 , 0.00262192, 0.0024767 , 0.00246057,\n",
      "       0.00292849, 0.00513089, 0.00507442, 0.00569562, 0.00671211,\n",
      "       0.00853536, 0.01126215, 0.00840628, 0.01014885, 0.00935823,\n",
      "       0.0096648 , 0.01029406, 0.00984228, 0.00955992, 0.01122182])]\n",
      "[0.011221816949525842, 0.010842646117303054]\n",
      "60\n"
     ]
    }
   ],
   "source": [
    "# #split the data into x_train and y_train dataset\n",
    "x_train = []\n",
    "y_train = []\n",
    "for i in range(60,training_data_len):\n",
    "    x_train.append(train_data[i-60:i,0])\n",
    "    y_train.append(train_data[i,0])\n",
    "    if i < 62:\n",
    "        print(x_train)\n",
    "        print(y_train)\n",
    "        print(len(x_train[0]))\n",
    "        \n",
    "        \n",
    "\n",
    "\n",
    "\n",
    "\n"
   ]
  },
  {
   "cell_type": "code",
   "execution_count": 971,
   "metadata": {},
   "outputs": [
    {
     "data": {
      "text/plain": [
       "(1401, 60, 1)"
      ]
     },
     "execution_count": 971,
     "metadata": {},
     "output_type": "execute_result"
    }
   ],
   "source": [
    "#convert the x_train, y_train to numpy arrays\n",
    "x_train, y_train = np.array(x_train), np.array(y_train)\n",
    "#reshape x_train to make it 3D array\n",
    "x_train = np.reshape(x_train, (x_train.shape[0], x_train.shape[1], 1))\n",
    "x_train.shape"
   ]
  },
  {
   "cell_type": "code",
   "execution_count": 972,
   "metadata": {},
   "outputs": [],
   "source": [
    "#create the LSTM model\n",
    "model = Sequential()\n",
    "model.add(LSTM(50, return_sequences=True, input_shape=(x_train.shape[1], 1)))\n",
    "model.add(LSTM(50, return_sequences= False))\n",
    "model.add(Dense(25))\n",
    "model.add(Dense(1))\n",
    "\n",
    "\n"
   ]
  },
  {
   "cell_type": "code",
   "execution_count": 973,
   "metadata": {},
   "outputs": [
    {
     "name": "stdout",
     "output_type": "stream",
     "text": [
      "1401/1401 [==============================] - 13s 8ms/step - loss: 0.0027\n"
     ]
    },
    {
     "data": {
      "text/plain": [
       "<keras.callbacks.History at 0x37a25bb20>"
      ]
     },
     "execution_count": 973,
     "metadata": {},
     "output_type": "execute_result"
    }
   ],
   "source": [
    "#compile the model\n",
    "model.compile(optimizer='adam', loss = 'mean_squared_error')\n",
    "#train the model\n",
    "model.fit(x_train, y_train, batch_size=1, epochs=1)\n",
    "\n"
   ]
  },
  {
   "cell_type": "code",
   "execution_count": 974,
   "metadata": {},
   "outputs": [
    {
     "name": "stdout",
     "output_type": "stream",
     "text": [
      "[array([0.50330359, 0.50907991, 0.5180509 , 0.5207938 , 0.5326368 ,\n",
      "       0.54302768, 0.53573472, 0.49714005, 0.47432535, 0.50695009,\n",
      "       0.50194827, 0.52669918, 0.53712235, 0.53218503, 0.51463031,\n",
      "       0.52876444, 0.4989472 , 0.47264731, 0.47739097, 0.47871404,\n",
      "       0.50101247, 0.44767053, 0.43285867, 0.42211283, 0.41004396,\n",
      "       0.37270781, 0.3633496 , 0.35747647, 0.36551167, 0.37441811,\n",
      "       0.38722921, 0.39103707, 0.34669838, 0.34660158, 0.34017987,\n",
      "       0.34886045, 0.35479813, 0.34815051, 0.35089346, 0.32830462,\n",
      "       0.32685249, 0.31755878, 0.32352868, 0.33395183, 0.31730061,\n",
      "       0.31468677, 0.32672341, 0.34786009, 0.34921542, 0.34666613,\n",
      "       0.31265378, 0.29955224, 0.29684159, 0.29406639, 0.30891048,\n",
      "       0.28525673, 0.30658705, 0.30913637, 0.31184704, 0.31646162])]\n",
      "[[124.66000366]]\n"
     ]
    }
   ],
   "source": [
    "#create the testing dataset\n",
    "#create a new array containing scaled values\n",
    "test_data = scaled_data[training_data_len-60:, :]\n",
    "x_test = []\n",
    "y_test = dataset[training_data_len:, :] #actual test values\n",
    "for i in range(60, len(test_data)):\n",
    "    x_test.append(test_data[i-60:i, 0])\n",
    "print(x_test)\n",
    "print(y_test) #the real value\n"
   ]
  },
  {
   "cell_type": "code",
   "execution_count": 975,
   "metadata": {},
   "outputs": [],
   "source": [
    "#convert the data to a numpy array\n",
    "# x_test = np.array(x_test)\n",
    "# x_test = np.reshape(x_test, (x_test.shape[0], x_test.shape[1], 1)) # 1: no of feature, which is just the closed price\n",
    "# x_test"
   ]
  },
  {
   "cell_type": "code",
   "execution_count": 976,
   "metadata": {},
   "outputs": [
    {
     "name": "stdout",
     "output_type": "stream",
     "text": [
      "[[array([0.325239])]]\n",
      "DatetimeIndex(['2022-10-24', '2022-10-25', '2022-10-26', '2022-10-27',\n",
      "               '2022-10-28', '2022-10-31', '2022-11-01', '2022-11-02',\n",
      "               '2022-11-03', '2022-11-04'],\n",
      "              dtype='datetime64[ns]', freq='B')\n",
      "1/1 [==============================] - 1s 694ms/step\n",
      "1/1 [==============================] - 0s 11ms/step\n",
      "1/1 [==============================] - 0s 10ms/step\n",
      "1/1 [==============================] - 0s 9ms/step\n",
      "1/1 [==============================] - 0s 9ms/step\n",
      "1/1 [==============================] - 0s 10ms/step\n",
      "1/1 [==============================] - 0s 9ms/step\n",
      "1/1 [==============================] - 0s 10ms/step\n",
      "1/1 [==============================] - 0s 9ms/step\n",
      "1/1 [==============================] - 0s 9ms/step\n"
     ]
    },
    {
     "name": "stderr",
     "output_type": "stream",
     "text": [
      "/var/folders/_3/gvgx_5g96zgg7kc_rh0x4cn40000gn/T/ipykernel_10425/1273728744.py:20: VisibleDeprecationWarning: Creating an ndarray from ragged nested sequences (which is a list-or-tuple of lists-or-tuples-or ndarrays with different lengths or shapes) is deprecated. If you meant to do this, you must specify 'dtype=object' when creating the ndarray.\n",
      "  predictions = np.array(predictions)\n"
     ]
    },
    {
     "data": {
      "text/plain": [
       "array([[124.66000366],\n",
       "       [125.58311619],\n",
       "       [126.44098024],\n",
       "       [127.66054746],\n",
       "       [129.11140522],\n",
       "       [130.71472966],\n",
       "       [132.42316182],\n",
       "       [134.20874624],\n",
       "       [136.05527485],\n",
       "       [137.95380782],\n",
       "       [139.89971822]])"
      ]
     },
     "execution_count": 976,
     "metadata": {},
     "output_type": "execute_result"
    }
   ],
   "source": [
    "#predict the value\n",
    "# predictions = model.predict(x_test)\n",
    "# predictions = scaler.inverse_transform(predictions)\n",
    "predictions = [[scaled_data[-1]]]\n",
    "print(predictions)\n",
    "\n",
    "idx = pd.date_range(start = datetime.now().date() + timedelta(days=2), end='11/04/2022', freq='B')\n",
    "\n",
    "print(idx)\n",
    "for i in idx:\n",
    "    # change x_test reshape\n",
    "    # predict another\n",
    "    # add prediction\n",
    "    x_test = np.array(x_test)\n",
    "    curr_test = np.reshape(x_test, (x_test.shape[0], x_test.shape[1], 1)) # 1: no of feature, which is just the closed price\n",
    "    prediction = model.predict(curr_test)\n",
    "    predictions.append(prediction[0])\n",
    "    x_test[0] = np.append(x_test[0][1:], predictions[-1])\n",
    "\n",
    "predictions = np.array(predictions)\n",
    "predictions = scaler.inverse_transform(predictions)\n",
    "predictions"
   ]
  },
  {
   "cell_type": "code",
   "execution_count": 977,
   "metadata": {},
   "outputs": [],
   "source": [
    "#evaluate the model\n",
    "#get the root mean squred error (RMSE) , ie. standard deviation of the residual\n",
    "# rmse = np.sqrt(np.mean((predictions - y_test)**2))\n",
    "# rmse"
   ]
  },
  {
   "cell_type": "code",
   "execution_count": 978,
   "metadata": {},
   "outputs": [
    {
     "data": {
      "text/html": [
       "<div>\n",
       "<style scoped>\n",
       "    .dataframe tbody tr th:only-of-type {\n",
       "        vertical-align: middle;\n",
       "    }\n",
       "\n",
       "    .dataframe tbody tr th {\n",
       "        vertical-align: top;\n",
       "    }\n",
       "\n",
       "    .dataframe thead th {\n",
       "        text-align: right;\n",
       "    }\n",
       "</style>\n",
       "<table border=\"1\" class=\"dataframe\">\n",
       "  <thead>\n",
       "    <tr style=\"text-align: right;\">\n",
       "      <th></th>\n",
       "      <th>Close</th>\n",
       "      <th>Predictions</th>\n",
       "    </tr>\n",
       "  </thead>\n",
       "  <tbody>\n",
       "    <tr>\n",
       "      <th>2022-10-21</th>\n",
       "      <td>124.660004</td>\n",
       "      <td>124.660004</td>\n",
       "    </tr>\n",
       "    <tr>\n",
       "      <th>2022-10-24</th>\n",
       "      <td>0.000000</td>\n",
       "      <td>125.583116</td>\n",
       "    </tr>\n",
       "    <tr>\n",
       "      <th>2022-10-25</th>\n",
       "      <td>0.000000</td>\n",
       "      <td>126.440980</td>\n",
       "    </tr>\n",
       "    <tr>\n",
       "      <th>2022-10-26</th>\n",
       "      <td>0.000000</td>\n",
       "      <td>127.660547</td>\n",
       "    </tr>\n",
       "    <tr>\n",
       "      <th>2022-10-27</th>\n",
       "      <td>0.000000</td>\n",
       "      <td>129.111405</td>\n",
       "    </tr>\n",
       "    <tr>\n",
       "      <th>2022-10-28</th>\n",
       "      <td>0.000000</td>\n",
       "      <td>130.714730</td>\n",
       "    </tr>\n",
       "    <tr>\n",
       "      <th>2022-10-31</th>\n",
       "      <td>0.000000</td>\n",
       "      <td>132.423162</td>\n",
       "    </tr>\n",
       "    <tr>\n",
       "      <th>2022-11-01</th>\n",
       "      <td>0.000000</td>\n",
       "      <td>134.208746</td>\n",
       "    </tr>\n",
       "    <tr>\n",
       "      <th>2022-11-02</th>\n",
       "      <td>0.000000</td>\n",
       "      <td>136.055275</td>\n",
       "    </tr>\n",
       "    <tr>\n",
       "      <th>2022-11-03</th>\n",
       "      <td>0.000000</td>\n",
       "      <td>137.953808</td>\n",
       "    </tr>\n",
       "    <tr>\n",
       "      <th>2022-11-04</th>\n",
       "      <td>0.000000</td>\n",
       "      <td>139.899718</td>\n",
       "    </tr>\n",
       "  </tbody>\n",
       "</table>\n",
       "</div>"
      ],
      "text/plain": [
       "                 Close  Predictions\n",
       "2022-10-21  124.660004   124.660004\n",
       "2022-10-24    0.000000   125.583116\n",
       "2022-10-25    0.000000   126.440980\n",
       "2022-10-26    0.000000   127.660547\n",
       "2022-10-27    0.000000   129.111405\n",
       "2022-10-28    0.000000   130.714730\n",
       "2022-10-31    0.000000   132.423162\n",
       "2022-11-01    0.000000   134.208746\n",
       "2022-11-02    0.000000   136.055275\n",
       "2022-11-03    0.000000   137.953808\n",
       "2022-11-04    0.000000   139.899718"
      ]
     },
     "execution_count": 978,
     "metadata": {},
     "output_type": "execute_result"
    }
   ],
   "source": [
    "#plot the data\n",
    "train = df[:training_data_len]\n",
    "valid = df[training_data_len:]\n",
    "\n",
    "idx = pd.date_range(start = datetime.now().date() - timedelta(days=1), end='11/04/2022', freq='B')\n",
    "valid = valid.reindex(idx, fill_value=0)\n",
    "valid['Predictions'] = predictions\n",
    "valid\n"
   ]
  },
  {
   "cell_type": "code",
   "execution_count": 979,
   "metadata": {},
   "outputs": [
    {
     "data": {
      "image/png": "[encoded data removed]",
      "text/plain": [
       "<Figure size 1152x576 with 1 Axes>"
      ]
     },
     "metadata": {
      "needs_background": "light"
     },
     "output_type": "display_data"
    }
   ],
   "source": [
    "#plot the graph\n",
    "plt.figure(figsize=(16,8))\n",
    "plt.plot(train['Close'])\n",
    "plt.plot(valid['Predictions'])\n",
    "plt.xlabel('Date', fontsize = 18)\n",
    "plt.ylabel('Close Price', fontsize = 18)\n",
    "plt.title('Stock Price Prediction',fontsize = 18)\n",
    "plt.legend(['Train', 'Prediction'], loc = 'upper left')\n",
    "plt.show()\n"
   ]
  },
  {
   "cell_type": "code",
   "execution_count": 984,
   "metadata": {},
   "outputs": [
    {
     "data": {
      "text/html": [
       "<div>\n",
       "<style scoped>\n",
       "    .dataframe tbody tr th:only-of-type {\n",
       "        vertical-align: middle;\n",
       "    }\n",
       "\n",
       "    .dataframe tbody tr th {\n",
       "        vertical-align: top;\n",
       "    }\n",
       "\n",
       "    .dataframe thead th {\n",
       "        text-align: right;\n",
       "    }\n",
       "</style>\n",
       "<table border=\"1\" class=\"dataframe\">\n",
       "  <thead>\n",
       "    <tr style=\"text-align: right;\">\n",
       "      <th></th>\n",
       "      <th>Close</th>\n",
       "    </tr>\n",
       "  </thead>\n",
       "  <tbody>\n",
       "    <tr>\n",
       "      <th>0</th>\n",
       "      <td>125.583116</td>\n",
       "    </tr>\n",
       "    <tr>\n",
       "      <th>1</th>\n",
       "      <td>126.440980</td>\n",
       "    </tr>\n",
       "    <tr>\n",
       "      <th>2</th>\n",
       "      <td>127.660547</td>\n",
       "    </tr>\n",
       "    <tr>\n",
       "      <th>3</th>\n",
       "      <td>129.111405</td>\n",
       "    </tr>\n",
       "    <tr>\n",
       "      <th>4</th>\n",
       "      <td>130.714730</td>\n",
       "    </tr>\n",
       "    <tr>\n",
       "      <th>5</th>\n",
       "      <td>132.423162</td>\n",
       "    </tr>\n",
       "    <tr>\n",
       "      <th>6</th>\n",
       "      <td>134.208746</td>\n",
       "    </tr>\n",
       "    <tr>\n",
       "      <th>7</th>\n",
       "      <td>136.055275</td>\n",
       "    </tr>\n",
       "    <tr>\n",
       "      <th>8</th>\n",
       "      <td>137.953808</td>\n",
       "    </tr>\n",
       "    <tr>\n",
       "      <th>9</th>\n",
       "      <td>139.899718</td>\n",
       "    </tr>\n",
       "  </tbody>\n",
       "</table>\n",
       "</div>"
      ],
      "text/plain": [
       "        Close\n",
       "0  125.583116\n",
       "1  126.440980\n",
       "2  127.660547\n",
       "3  129.111405\n",
       "4  130.714730\n",
       "5  132.423162\n",
       "6  134.208746\n",
       "7  136.055275\n",
       "8  137.953808\n",
       "9  139.899718"
      ]
     },
     "execution_count": 984,
     "metadata": {},
     "output_type": "execute_result"
    }
   ],
   "source": [
    "prediction = pd.DataFrame(valid['Predictions'], index = valid.index)\n",
    "prediction = prediction.rename(columns={'Predictions': \"Close\"})\n",
    "prediction = prediction.drop(axis=0, labels='2022-10-21')\n",
    "prediction.index = np.arange(len(prediction))\n",
    "prediction.to_csv('HuangXuan_Impl_1.csv')\n",
    "\n",
    "prediction\n"
   ]
  },
  {
   "cell_type": "code",
   "execution_count": null,
   "metadata": {},
   "outputs": [],
   "source": []
  }
 ],
 "metadata": {
  "kernelspec": {
   "display_name": "Python 3.10.4 ('xuan310')",
   "language": "python",
   "name": "python3"
  },
  "language_info": {
   "codemirror_mode": {
    "name": "ipython",
    "version": 3
   },
   "file_extension": ".py",
   "mimetype": "text/x-python",
   "name": "python",
   "nbconvert_exporter": "python",
   "pygments_lexer": "ipython3",
   "version": "3.10.4"
  },
  "orig_nbformat": 4,
  "vscode": {
   "interpreter": {
    "hash": "ee1b09ac47e8d46fa2d6f5e01eb6e33f88bd2df027ef47677bb4b0057a06133f"
   }
  }
 },
 "nbformat": 4,
 "nbformat_minor": 2
}
